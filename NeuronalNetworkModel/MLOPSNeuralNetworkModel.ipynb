{
 "cells": [
  {
   "cell_type": "code",
   "execution_count": 4,
   "id": "5105305a",
   "metadata": {},
   "outputs": [],
   "source": [
    "import matplotlib.pyplot as plt\n",
    "import seaborn as sns\n",
    "from sklearn.model_selection import train_test_split\n",
    "from sklearn.ensemble import RandomForestClassifier\n",
    "from sklearn.metrics import classification_report, confusion_matrix, accuracy_score\n",
    "import pandas as pd"
   ]
  },
  {
   "cell_type": "code",
   "execution_count": 5,
   "id": "c006ca45",
   "metadata": {},
   "outputs": [],
   "source": [
    "\n",
    "data = pd.read_csv(\"../data/high_diamond_ranked_10min.csv\")"
   ]
  },
  {
   "cell_type": "code",
   "execution_count": 6,
   "id": "ddd6f4fd",
   "metadata": {},
   "outputs": [],
   "source": [
    "correlations = data.corr()['blueWins'].sort_values()"
   ]
  },
  {
   "cell_type": "code",
   "execution_count": 7,
   "id": "959b5bec",
   "metadata": {},
   "outputs": [],
   "source": [
    "threshold = 0.1\n",
    "significant_features = correlations[(correlations > threshold) | (correlations < -threshold)]\n",
    "significant_features = significant_features.index.tolist()\n",
    "significant_features.remove('blueWins')  # Retirer la variable cible de la liste"
   ]
  },
  {
   "cell_type": "code",
   "execution_count": 8,
   "id": "a3300204",
   "metadata": {},
   "outputs": [],
   "source": [
    "X = data[significant_features]\n",
    "y = data['blueWins']"
   ]
  },
  {
   "cell_type": "code",
   "execution_count": 9,
   "id": "44d3aa53",
   "metadata": {},
   "outputs": [],
   "source": [
    "X_train, X_test, y_train, y_test = train_test_split(X, y, test_size=0.3, random_state=42)"
   ]
  },
  {
   "cell_type": "code",
   "execution_count": 10,
   "id": "78588163",
   "metadata": {},
   "outputs": [
    {
     "name": "stdout",
     "output_type": "stream",
     "text": [
      "Accuracy (Neural Network): 0.7173\n",
      "\n",
      "Confusion Matrix (Neural Network):\n",
      "[[1212  268]\n",
      " [ 570  914]]\n",
      "\n",
      "Classification Report (Neural Network):\n",
      "              precision    recall  f1-score   support\n",
      "\n",
      "           0       0.68      0.82      0.74      1480\n",
      "           1       0.77      0.62      0.69      1484\n",
      "\n",
      "    accuracy                           0.72      2964\n",
      "   macro avg       0.73      0.72      0.71      2964\n",
      "weighted avg       0.73      0.72      0.71      2964\n",
      "\n"
     ]
    }
   ],
   "source": [
    "from sklearn.neural_network import MLPClassifier\n",
    "\n",
    "# Création du modèle de réseau de neurones\n",
    "mlp_model = MLPClassifier(random_state=42)\n",
    "\n",
    "# Entraînement du modèle sur l'ensemble d'entraînement\n",
    "mlp_model.fit(X_train, y_train)\n",
    "\n",
    "# Prédictions sur l'ensemble de test\n",
    "y_pred_mlp = mlp_model.predict(X_test)\n",
    "\n",
    "# Évaluation du modèle\n",
    "accuracy_mlp = accuracy_score(y_test, y_pred_mlp)\n",
    "conf_matrix_mlp = confusion_matrix(y_test, y_pred_mlp)\n",
    "class_report_mlp = classification_report(y_test, y_pred_mlp)\n",
    "\n",
    "# Affichage des résultats\n",
    "print(f'Accuracy (Neural Network): {accuracy_mlp:.4f}')\n",
    "print('\\nConfusion Matrix (Neural Network):')\n",
    "print(conf_matrix_mlp)\n",
    "print('\\nClassification Report (Neural Network):')\n",
    "print(class_report_mlp)\n"
   ]
  },
  {
   "cell_type": "code",
   "execution_count": null,
   "id": "a7ab87d9",
   "metadata": {},
   "outputs": [],
   "source": []
  }
 ],
 "metadata": {
  "kernelspec": {
   "display_name": "Python 3 (ipykernel)",
   "language": "python",
   "name": "python3"
  },
  "language_info": {
   "codemirror_mode": {
    "name": "ipython",
    "version": 3
   },
   "file_extension": ".py",
   "mimetype": "text/x-python",
   "name": "python",
   "nbconvert_exporter": "python",
   "pygments_lexer": "ipython3",
   "version": "3.11.5"
  }
 },
 "nbformat": 4,
 "nbformat_minor": 5
}
